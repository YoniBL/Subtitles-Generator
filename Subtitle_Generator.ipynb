{
  "nbformat": 4,
  "nbformat_minor": 0,
  "metadata": {
    "colab": {
      "provenance": []
    },
    "kernelspec": {
      "name": "python3",
      "display_name": "Python 3"
    },
    "language_info": {
      "name": "python"
    }
  },
  "cells": [
    {
      "cell_type": "markdown",
      "source": [
        "A short step by step guide to use the subtitle generator:\n",
        "\n",
        "1) In Runtime, change Runtime type to T4-GPU\n",
        "\n",
        "2) Run the first line(notice, it might fail to run in the first time and require to run it a second time- this time it should work)\n",
        "\n",
        "3) Upload the video file as video(Should be saved as video.mp4)\n",
        "\n",
        "4) Run one by one all the different code segments\n",
        "\n",
        "5) Subtitles will be saved in the files as subtitles.srt"
      ],
      "metadata": {
        "id": "V6c2xvlgEBHq"
      }
    },
    {
      "cell_type": "code",
      "execution_count": null,
      "metadata": {
        "id": "KVi0m2OFDxmf"
      },
      "outputs": [],
      "source": [
        "!pip install git+https://github.com/openai/whisper.git"
      ]
    },
    {
      "cell_type": "code",
      "source": [
        "from moviepy.editor import VideoFileClip\n",
        "clip = VideoFileClip(\"/content/video.mp4\")\n",
        "clip.audio.write_audiofile(\"audio.wav\")"
      ],
      "metadata": {
        "id": "MB9RFBK6EE2q"
      },
      "execution_count": null,
      "outputs": []
    },
    {
      "cell_type": "code",
      "source": [
        "import whisper\n",
        "from datetime import timedelta\n",
        "\n",
        "# Load Whisper model\n",
        "model = whisper.load_model(\"large\")"
      ],
      "metadata": {
        "id": "bVJCT-a5EG7E"
      },
      "execution_count": null,
      "outputs": []
    },
    {
      "cell_type": "code",
      "source": [
        "!pip install srt"
      ],
      "metadata": {
        "id": "mPPVsNEdEJYt"
      },
      "execution_count": null,
      "outputs": []
    },
    {
      "cell_type": "code",
      "source": [
        "import srt\n",
        "# Transcribe audio (replace 'your_audio.wav' with your actual file)\n",
        "result = model.transcribe(\"/content/audio.wav\", language='he')\n",
        "# Function to split text into blocks according to timing\n",
        "def split_text_by_timing(text, num_blocks):\n",
        "    words = text.split()\n",
        "    blocks = []\n",
        "    words_per_block = len(words) // num_blocks  # Base number of words per block\n",
        "\n",
        "    current_block = []\n",
        "    for i, word in enumerate(words):\n",
        "        current_block.append(word)\n",
        "        if (i + 1) % words_per_block == 0 and len(blocks) < num_blocks - 1:\n",
        "            blocks.append(\" \".join(current_block))\n",
        "            current_block = []\n",
        "\n",
        "    # Add any remaining words to the last block\n",
        "    if current_block:\n",
        "        blocks.append(\" \".join(current_block))\n",
        "\n",
        "    return blocks\n",
        "\n",
        "# Function to split text into lines with 16-24 characters per line\n",
        "def split_into_subtitles(text, min_chars_per_line=16, max_chars_per_line=24, max_lines_per_block=2):\n",
        "    words = text.split()\n",
        "    current_line = \"\"\n",
        "    subtitle_blocks = []\n",
        "    current_block = []\n",
        "\n",
        "    for word in words:\n",
        "        # Try to add the word to the current line\n",
        "        if len(current_line) + len(word) + 1 <= max_chars_per_line:  # +1 for the space\n",
        "            current_line += (word + \" \")\n",
        "        else:\n",
        "            # If current line is shorter than the minimum, attempt to add more words\n",
        "            if len(current_line.strip()) < min_chars_per_line:\n",
        "                current_line += word + \" \"\n",
        "            else:\n",
        "                # Add the current line to the current block\n",
        "                current_block.append(current_line.strip())\n",
        "                current_line = word + \" \"\n",
        "\n",
        "            # If we've reached the max lines per block, start a new block\n",
        "            if len(current_block) == max_lines_per_block:\n",
        "                subtitle_blocks.append(\"\\n\".join(current_block))\n",
        "                current_block = []\n",
        "\n",
        "    # Add any remaining text in the last line/block\n",
        "    if current_line:\n",
        "        current_block.append(current_line.strip())\n",
        "    if current_block:\n",
        "        subtitle_blocks.append(\"\\n\".join(current_block))\n",
        "\n",
        "    return subtitle_blocks\n",
        "\n",
        "# Create SRT subtitles with timing first, then character constraints\n",
        "subtitles = []\n",
        "index = 1  # Subtitle index\n",
        "\n",
        "for segment in result['segments']:\n",
        "    start_time = timedelta(seconds=segment['start'])\n",
        "    end_time = timedelta(seconds=segment['end'])\n",
        "    segment_text = segment['text']\n",
        "\n",
        "    # Calculate time duration for each block\n",
        "    segment_duration = end_time - start_time\n",
        "\n",
        "    # Decide how many subtitle blocks we need for this segment based on segment length\n",
        "    num_blocks = max(1, len(segment_text) // 24)  # Adjust based on total segment length\n",
        "\n",
        "    # Split the text for this segment into subtitle blocks\n",
        "    text_blocks = split_text_by_timing(segment_text, num_blocks)\n",
        "\n",
        "    # Further split each block into lines with 16-24 characters per line\n",
        "    for block in text_blocks:\n",
        "        subtitle_lines = split_into_subtitles(block)\n",
        "\n",
        "        time_per_block = segment_duration / len(text_blocks)\n",
        "\n",
        "        # Assign the start and end times for each block\n",
        "        block_start_time = start_time\n",
        "        block_end_time = start_time + time_per_block\n",
        "\n",
        "        for subtitle in subtitle_lines:\n",
        "            subtitles.append(srt.Subtitle(index=index, start=block_start_time, end=block_end_time, content=subtitle))\n",
        "            index += 1\n",
        "\n",
        "        start_time = block_end_time\n",
        "\n",
        "# Compose SRT content\n",
        "srt_content = srt.compose(subtitles)\n",
        "\n",
        "# Write SRT file\n",
        "with open(\"subtitles.srt\", \"w\") as f:\n",
        "    f.write(srt_content)\n",
        "\n",
        "print(\"Subtitles created and saved as subtitles.srt\")"
      ],
      "metadata": {
        "id": "8E_1AxJwEMcP"
      },
      "execution_count": null,
      "outputs": []
    },
    {
      "cell_type": "markdown",
      "source": [],
      "metadata": {
        "id": "I_X--FxWEDRo"
      }
    }
  ]
}